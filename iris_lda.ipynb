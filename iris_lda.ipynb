{
  "nbformat": 4,
  "nbformat_minor": 0,
  "metadata": {
    "colab": {
      "name": "iris.ipynb",
      "provenance": [],
      "collapsed_sections": [],
      "toc_visible": true,
      "authorship_tag": "ABX9TyN3thrb93b9dcLpiTJ6BjFw",
      "include_colab_link": true
    },
    "kernelspec": {
      "name": "python3",
      "display_name": "Python 3"
    },
    "accelerator": "GPU"
  },
  "cells": [
    {
      "cell_type": "markdown",
      "metadata": {
        "id": "view-in-github",
        "colab_type": "text"
      },
      "source": [
        "<a href=\"https://colab.research.google.com/github/RachitBhatt92/Deep_Learning/blob/master/iris_lda.ipynb\" target=\"_parent\"><img src=\"https://colab.research.google.com/assets/colab-badge.svg\" alt=\"Open In Colab\"/></a>"
      ]
    },
    {
      "cell_type": "code",
      "metadata": {
        "id": "oNl76nNt4zjj",
        "colab_type": "code",
        "colab": {}
      },
      "source": [
        "import pandas as pd\n",
        "import numpy as np\n",
        "import matplotlib.pyplot as plt\n",
        "import seaborn as sns\n",
        "from sklearn.discriminant_analysis import LinearDiscriminantAnalysis"
      ],
      "execution_count": 0,
      "outputs": []
    },
    {
      "cell_type": "code",
      "metadata": {
        "id": "PlZ8wN6F6jFg",
        "colab_type": "code",
        "outputId": "a24e883c-bc4e-4bd9-dd8a-42fca0bb0a8d",
        "colab": {
          "base_uri": "https://localhost:8080/",
          "height": 402
        }
      },
      "source": [
        "nm=['sepal length (cm)','sepal width (cm)','petal length (cm)','petal width (cm)','class label']\n",
        "iris=pd.read_csv(r'/content/iris.csv',names=nm)\n",
        "iris"
      ],
      "execution_count": 2,
      "outputs": [
        {
          "output_type": "execute_result",
          "data": {
            "text/html": [
              "<div>\n",
              "<style scoped>\n",
              "    .dataframe tbody tr th:only-of-type {\n",
              "        vertical-align: middle;\n",
              "    }\n",
              "\n",
              "    .dataframe tbody tr th {\n",
              "        vertical-align: top;\n",
              "    }\n",
              "\n",
              "    .dataframe thead th {\n",
              "        text-align: right;\n",
              "    }\n",
              "</style>\n",
              "<table border=\"1\" class=\"dataframe\">\n",
              "  <thead>\n",
              "    <tr style=\"text-align: right;\">\n",
              "      <th></th>\n",
              "      <th>sepal length (cm)</th>\n",
              "      <th>sepal width (cm)</th>\n",
              "      <th>petal length (cm)</th>\n",
              "      <th>petal width (cm)</th>\n",
              "      <th>class label</th>\n",
              "    </tr>\n",
              "  </thead>\n",
              "  <tbody>\n",
              "    <tr>\n",
              "      <th>0</th>\n",
              "      <td>5.1</td>\n",
              "      <td>3.5</td>\n",
              "      <td>1.4</td>\n",
              "      <td>0.2</td>\n",
              "      <td>Iris-setosa</td>\n",
              "    </tr>\n",
              "    <tr>\n",
              "      <th>1</th>\n",
              "      <td>4.9</td>\n",
              "      <td>3.0</td>\n",
              "      <td>1.4</td>\n",
              "      <td>0.2</td>\n",
              "      <td>Iris-setosa</td>\n",
              "    </tr>\n",
              "    <tr>\n",
              "      <th>2</th>\n",
              "      <td>4.7</td>\n",
              "      <td>3.2</td>\n",
              "      <td>1.3</td>\n",
              "      <td>0.2</td>\n",
              "      <td>Iris-setosa</td>\n",
              "    </tr>\n",
              "    <tr>\n",
              "      <th>3</th>\n",
              "      <td>4.6</td>\n",
              "      <td>3.1</td>\n",
              "      <td>1.5</td>\n",
              "      <td>0.2</td>\n",
              "      <td>Iris-setosa</td>\n",
              "    </tr>\n",
              "    <tr>\n",
              "      <th>4</th>\n",
              "      <td>5.0</td>\n",
              "      <td>3.6</td>\n",
              "      <td>1.4</td>\n",
              "      <td>0.2</td>\n",
              "      <td>Iris-setosa</td>\n",
              "    </tr>\n",
              "    <tr>\n",
              "      <th>...</th>\n",
              "      <td>...</td>\n",
              "      <td>...</td>\n",
              "      <td>...</td>\n",
              "      <td>...</td>\n",
              "      <td>...</td>\n",
              "    </tr>\n",
              "    <tr>\n",
              "      <th>145</th>\n",
              "      <td>6.7</td>\n",
              "      <td>3.0</td>\n",
              "      <td>5.2</td>\n",
              "      <td>2.3</td>\n",
              "      <td>Iris-virginica</td>\n",
              "    </tr>\n",
              "    <tr>\n",
              "      <th>146</th>\n",
              "      <td>6.3</td>\n",
              "      <td>2.5</td>\n",
              "      <td>5.0</td>\n",
              "      <td>1.9</td>\n",
              "      <td>Iris-virginica</td>\n",
              "    </tr>\n",
              "    <tr>\n",
              "      <th>147</th>\n",
              "      <td>6.5</td>\n",
              "      <td>3.0</td>\n",
              "      <td>5.2</td>\n",
              "      <td>2.0</td>\n",
              "      <td>Iris-virginica</td>\n",
              "    </tr>\n",
              "    <tr>\n",
              "      <th>148</th>\n",
              "      <td>6.2</td>\n",
              "      <td>3.4</td>\n",
              "      <td>5.4</td>\n",
              "      <td>2.3</td>\n",
              "      <td>Iris-virginica</td>\n",
              "    </tr>\n",
              "    <tr>\n",
              "      <th>149</th>\n",
              "      <td>5.9</td>\n",
              "      <td>3.0</td>\n",
              "      <td>5.1</td>\n",
              "      <td>1.8</td>\n",
              "      <td>Iris-virginica</td>\n",
              "    </tr>\n",
              "  </tbody>\n",
              "</table>\n",
              "<p>150 rows × 5 columns</p>\n",
              "</div>"
            ],
            "text/plain": [
              "     sepal length (cm)  sepal width (cm)  ...  petal width (cm)     class label\n",
              "0                  5.1               3.5  ...               0.2     Iris-setosa\n",
              "1                  4.9               3.0  ...               0.2     Iris-setosa\n",
              "2                  4.7               3.2  ...               0.2     Iris-setosa\n",
              "3                  4.6               3.1  ...               0.2     Iris-setosa\n",
              "4                  5.0               3.6  ...               0.2     Iris-setosa\n",
              "..                 ...               ...  ...               ...             ...\n",
              "145                6.7               3.0  ...               2.3  Iris-virginica\n",
              "146                6.3               2.5  ...               1.9  Iris-virginica\n",
              "147                6.5               3.0  ...               2.0  Iris-virginica\n",
              "148                6.2               3.4  ...               2.3  Iris-virginica\n",
              "149                5.9               3.0  ...               1.8  Iris-virginica\n",
              "\n",
              "[150 rows x 5 columns]"
            ]
          },
          "metadata": {
            "tags": []
          },
          "execution_count": 2
        }
      ]
    },
    {
      "cell_type": "code",
      "metadata": {
        "id": "VrNp5jczhZ_S",
        "colab_type": "code",
        "colab": {}
      },
      "source": [
        "from sklearn.preprocessing import LabelEncoder"
      ],
      "execution_count": 0,
      "outputs": []
    },
    {
      "cell_type": "code",
      "metadata": {
        "id": "wHXakhNHhYJ3",
        "colab_type": "code",
        "colab": {}
      },
      "source": [
        "X = iris[iris.columns.difference(['class label'])].values  #we need array of values for LDA\n",
        "y = iris['class label'].values\n",
        "\n",
        "enc = LabelEncoder()\n",
        "label_encoder = enc.fit(y)\n",
        "y = label_encoder.transform(y) + 1   \n",
        "\n",
        "label_dict = {1: 'Setosa', 2: 'Versicolor', 3:'Virginica'} #just to remember in future which category relates to which category"
      ],
      "execution_count": 0,
      "outputs": []
    },
    {
      "cell_type": "code",
      "metadata": {
        "id": "RP2IgjKXh_-s",
        "colab_type": "code",
        "outputId": "b3ddd5db-2732-45f4-c0d8-354cd3e25327",
        "colab": {
          "base_uri": "https://localhost:8080/",
          "height": 134
        }
      },
      "source": [
        "y`"
      ],
      "execution_count": 5,
      "outputs": [
        {
          "output_type": "execute_result",
          "data": {
            "text/plain": [
              "array([1, 1, 1, 1, 1, 1, 1, 1, 1, 1, 1, 1, 1, 1, 1, 1, 1, 1, 1, 1, 1, 1,\n",
              "       1, 1, 1, 1, 1, 1, 1, 1, 1, 1, 1, 1, 1, 1, 1, 1, 1, 1, 1, 1, 1, 1,\n",
              "       1, 1, 1, 1, 1, 1, 2, 2, 2, 2, 2, 2, 2, 2, 2, 2, 2, 2, 2, 2, 2, 2,\n",
              "       2, 2, 2, 2, 2, 2, 2, 2, 2, 2, 2, 2, 2, 2, 2, 2, 2, 2, 2, 2, 2, 2,\n",
              "       2, 2, 2, 2, 2, 2, 2, 2, 2, 2, 2, 2, 3, 3, 3, 3, 3, 3, 3, 3, 3, 3,\n",
              "       3, 3, 3, 3, 3, 3, 3, 3, 3, 3, 3, 3, 3, 3, 3, 3, 3, 3, 3, 3, 3, 3,\n",
              "       3, 3, 3, 3, 3, 3, 3, 3, 3, 3, 3, 3, 3, 3, 3, 3, 3, 3])"
            ]
          },
          "metadata": {
            "tags": []
          },
          "execution_count": 5
        }
      ]
    },
    {
      "cell_type": "markdown",
      "metadata": {
        "id": "jqtSKTaTIXXr",
        "colab_type": "text"
      },
      "source": [
        "TRANSFORMATION TO LOG2"
      ]
    },
    {
      "cell_type": "code",
      "metadata": {
        "id": "hkSc7CY-Gkqq",
        "colab_type": "code",
        "colab": {}
      },
      "source": [
        "from sklearn.preprocessing import FunctionTransformer"
      ],
      "execution_count": 0,
      "outputs": []
    },
    {
      "cell_type": "code",
      "metadata": {
        "id": "7IJ9kmvsGvK6",
        "colab_type": "code",
        "colab": {}
      },
      "source": [
        "f=FunctionTransformer(np.log2)"
      ],
      "execution_count": 0,
      "outputs": []
    },
    {
      "cell_type": "code",
      "metadata": {
        "id": "7WpYlvsDHCSb",
        "colab_type": "code",
        "colab": {}
      },
      "source": [
        "k=f.fit(X,y)\n",
        "x_new=f.transform(X)"
      ],
      "execution_count": 0,
      "outputs": []
    },
    {
      "cell_type": "markdown",
      "metadata": {
        "id": "71RbwWIzjJ9i",
        "colab_type": "text"
      },
      "source": [
        "# **LDA Steps:-**\n",
        "Linear Discriminant Analysis involves various steps ranging from calculating **Scatter Matrix within calss** and **Scatter Matrix between different classes** and finding **LDA projection**(which is nothing but best seperating line/plane/space etc which maximum seperates the classes)\n",
        "\n",
        "\n",
        "\n",
        "\n",
        "The Reason behind calculating these matrixes is:-\n",
        "\n",
        "1)Maximise the seperation between differernt classes this is done to get the maximum seperation between two classes and escpecially their MEAN\n",
        "\n",
        "\n",
        "\n",
        "2)Minimising the variation/deviation of all datapoints within each class so that point of one class dont overlap the points of other class\n"
      ]
    },
    {
      "cell_type": "markdown",
      "metadata": {
        "id": "hIFPJEqPjg_y",
        "colab_type": "text"
      },
      "source": [
        "## **Step 1:-Calculating Scatter Matrix within class(Sw):-**\n",
        "This gives us the idea of how much data is scattered within a class(deviation)\n",
        "\n",
        "### Sw=S1+S2+S3+.....Sn\n",
        "\n",
        "### where S1 =Covariance Matrix for class 1\n",
        "\n",
        "###       S2=Covarinace Matrix for class 2 and \n",
        "\n",
        "###       Sn=Covariance Matrix for class 'n'th\n",
        "\n",
        "\n",
        "\n",
        "### **a)Calculate mean for each class:**\n",
        "\n",
        "\n",
        "\n",
        "                        ** mean(x)=mean of each feature wrt class**\n",
        "\n",
        "\n",
        "\n",
        "\n",
        "### **b)Calculating Covariance for each class**\n",
        "\n",
        "\n",
        "\n",
        "\n",
        "                           **Si=∑(x−mean(xi))*(x−mean(xi))T** \n",
        "\n",
        "\n",
        "                        \n",
        "\n",
        "## **Step 2:-** Calculating Scatter Matrix between two classes:\n",
        "\n",
        "That is how far are two classes seperated\n",
        "\n",
        "\n",
        "denoted by Sb\n",
        "\n",
        "\n",
        "Sb=(u1-u2)(u1-u2)T          for two classes\n",
        "\n",
        "\n",
        "\n",
        "\n",
        "\n",
        "\n",
        "\n",
        "## **Step 3:- Find best LDA projection Vector:-**\n",
        "\n",
        "\n",
        "\n",
        "projection vector is nothing but Eigen vector(for largest eigen value)\n",
        "\n",
        "**GENERALIZED EIGEN MATRIX:**\n",
        "\n",
        "## **A-(LAMBDA)X=0**\n",
        "\n",
        "\n",
        "where A=(Sw^-1)*Sb\n",
        "\n",
        "     Sw^-1 is inverse of Sw matrix\n",
        "\n",
        "     LAMBDA=eigen values\n",
        "\n",
        "     X=projection Vector or Eigen Vector"
      ]
    },
    {
      "cell_type": "code",
      "metadata": {
        "id": "6kZFVShrwsaw",
        "colab_type": "code",
        "colab": {}
      },
      "source": [
        "from sklearn.discriminant_analysis import LinearDiscriminantAnalysis"
      ],
      "execution_count": 0,
      "outputs": []
    },
    {
      "cell_type": "code",
      "metadata": {
        "id": "kEBVnz7zt1Xw",
        "colab_type": "code",
        "outputId": "f2c4eb0e-1301-43af-fd38-7a0366c283b0",
        "colab": {
          "base_uri": "https://localhost:8080/",
          "height": 406
        }
      },
      "source": [
        "var={}\n",
        "for i in range(1,6,1):\n",
        "    lda=LinearDiscriminantAnalysis(n_components=i,solver='eigen', shrinkage = 'auto')\n",
        "    l=lda.fit(x_new, y)\n",
        "    var={'n':i,'variance':sum(l.explained_variance_ratio_)}\n",
        "    print(var,'\\n')"
      ],
      "execution_count": 19,
      "outputs": [
        {
          "output_type": "stream",
          "text": [
            "{'n': 1, 'variance': 0.9885305626645745} \n",
            "\n",
            "{'n': 2, 'variance': 0.9968898541195343} \n",
            "\n",
            "{'n': 3, 'variance': 0.9968898541195343} \n",
            "\n",
            "{'n': 4, 'variance': 0.9968898541195343} \n",
            "\n",
            "{'n': 5, 'variance': 0.9968898541195343} \n",
            "\n"
          ],
          "name": "stdout"
        },
        {
          "output_type": "stream",
          "text": [
            "/usr/local/lib/python3.6/dist-packages/sklearn/discriminant_analysis.py:463: ChangedBehaviorWarning: n_components cannot be larger than min(n_features, n_classes - 1). Using min(n_features, n_classes - 1) = min(4, 3 - 1) = 2 components.\n",
            "  ChangedBehaviorWarning)\n",
            "/usr/local/lib/python3.6/dist-packages/sklearn/discriminant_analysis.py:469: FutureWarning: In version 0.23, setting n_components > min(n_features, n_classes - 1) will raise a ValueError. You should set n_components to None (default), or a value smaller or equal to min(n_features, n_classes - 1).\n",
            "  warnings.warn(future_msg, FutureWarning)\n",
            "/usr/local/lib/python3.6/dist-packages/sklearn/discriminant_analysis.py:463: ChangedBehaviorWarning: n_components cannot be larger than min(n_features, n_classes - 1). Using min(n_features, n_classes - 1) = min(4, 3 - 1) = 2 components.\n",
            "  ChangedBehaviorWarning)\n",
            "/usr/local/lib/python3.6/dist-packages/sklearn/discriminant_analysis.py:469: FutureWarning: In version 0.23, setting n_components > min(n_features, n_classes - 1) will raise a ValueError. You should set n_components to None (default), or a value smaller or equal to min(n_features, n_classes - 1).\n",
            "  warnings.warn(future_msg, FutureWarning)\n",
            "/usr/local/lib/python3.6/dist-packages/sklearn/discriminant_analysis.py:463: ChangedBehaviorWarning: n_components cannot be larger than min(n_features, n_classes - 1). Using min(n_features, n_classes - 1) = min(4, 3 - 1) = 2 components.\n",
            "  ChangedBehaviorWarning)\n",
            "/usr/local/lib/python3.6/dist-packages/sklearn/discriminant_analysis.py:469: FutureWarning: In version 0.23, setting n_components > min(n_features, n_classes - 1) will raise a ValueError. You should set n_components to None (default), or a value smaller or equal to min(n_features, n_classes - 1).\n",
            "  warnings.warn(future_msg, FutureWarning)\n"
          ],
          "name": "stderr"
        }
      ]
    },
    {
      "cell_type": "code",
      "metadata": {
        "id": "9guSLj-5EVuH",
        "colab_type": "code",
        "colab": {}
      },
      "source": [
        "lda=LinearDiscriminantAnalysis(n_components=1,solver='eigen', shrinkage = 'auto')\n",
        "l1=lda.fit(x_new, y)"
      ],
      "execution_count": 0,
      "outputs": []
    },
    {
      "cell_type": "code",
      "metadata": {
        "id": "XeI34RR3t1gi",
        "colab_type": "code",
        "outputId": "8e79d97e-1c34-43d9-ed67-1f245a9240cd",
        "colab": {
          "base_uri": "https://localhost:8080/",
          "height": 84
        }
      },
      "source": [
        "l1.scalings_"
      ],
      "execution_count": 24,
      "outputs": [
        {
          "output_type": "execute_result",
          "data": {
            "text/plain": [
              "array([[-5.89395804, -4.58210406, -0.32242265,  1.75333759],\n",
              "       [-1.16136556,  2.45039688,  0.3235731 ,  0.38843968],\n",
              "       [ 1.84955046,  2.63091989, -4.02378747, -9.16345389],\n",
              "       [ 2.75766136, -0.61831461, -4.22021842,  5.08931776]])"
            ]
          },
          "metadata": {
            "tags": []
          },
          "execution_count": 24
        }
      ]
    },
    {
      "cell_type": "code",
      "metadata": {
        "id": "DXlosh7oInSA",
        "colab_type": "code",
        "colab": {
          "base_uri": "https://localhost:8080/",
          "height": 121
        },
        "outputId": "2d7dbc97-7cb8-4f7a-8715-32804586e441"
      },
      "source": [
        "from google.colab import drive\n",
        "drive.mount('/content/drive')"
      ],
      "execution_count": 26,
      "outputs": [
        {
          "output_type": "stream",
          "text": [
            "Go to this URL in a browser: https://accounts.google.com/o/oauth2/auth?client_id=947318989803-6bn6qk8qdgf4n4g3pfee6491hc0brc4i.apps.googleusercontent.com&redirect_uri=urn%3aietf%3awg%3aoauth%3a2.0%3aoob&response_type=code&scope=email%20https%3a%2f%2fwww.googleapis.com%2fauth%2fdocs.test%20https%3a%2f%2fwww.googleapis.com%2fauth%2fdrive%20https%3a%2f%2fwww.googleapis.com%2fauth%2fdrive.photos.readonly%20https%3a%2f%2fwww.googleapis.com%2fauth%2fpeopleapi.readonly\n",
            "\n",
            "Enter your authorization code:\n",
            "··········\n",
            "Mounted at /content/drive\n"
          ],
          "name": "stdout"
        }
      ]
    }
  ]
}